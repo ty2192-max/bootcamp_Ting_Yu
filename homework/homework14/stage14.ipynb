{
 "cells": [
  {
   "cell_type": "markdown",
   "metadata": {},
   "source": [
    "# Stage 14: Deployment & Monitoring\n",
    "\n",
    "Use this template to draft your reflection and (optionally) sketch a dashboard."
   ]
  },
  {
   "cell_type": "markdown",
   "id": "2e0d224d",
   "metadata": {},
   "source": [
    "## 1) Reflection (200–300 words)\n",
    "- Risks if deployed:\n",
    "- Monitoring metrics across layers (Data/Model/System/Business):\n",
    "- Ownership & handoffs:\n",
    "\n",
    "> Tip: Be specific (e.g., 'p95 latency > 250ms triggers on-call notification').\n",
    "\n",
    "Risks if deployed: The model faces data drift risks from changing market conditions that could break the linear relationship assumption. Missing data patterns may shift, reducing imputation effectiveness. Outlier detection could fail during high volatility periods, either missing real anomalies or filtering legitimate opportunities. System latency could increase during market open hours, causing delayed predictions.\n",
    "\n",
    "Monitoring metrics: Data layer: freshness (<5 minutes delay), null rate (<2% increase), schema changes (daily validation). Model layer: rolling 7-day MAE (<1.0 threshold), weekly PSI (<0.1 on key features). System layer: p95 latency (<200ms), error rate (<1%). Business layer: prediction accuracy (>70% daily), strategy performance vs benchmark.\n",
    "\n",
    "Ownership & handoffs: Data engineers own data pipeline monitoring with 24/7 alerting. ML engineers handle model performance with weekly reviews. System reliability team monitors API endpoints during trading hours. Business analysts verify daily performance reports. Handoffs occur through dedicated Slack channels and weekly sync meetings. Critical alerts (p95 latency >250ms or MAE >1.5) trigger immediate on-call notifications to relevant teams. Retraining occurs automatically when PSI >0.15 or weekly MAE increases by 20%."
   ]
  },
  {
   "cell_type": "markdown",
   "id": "0e505305",
   "metadata": {},
   "source": [
    "## 2) Optional: Dashboard Sketch\n",
    "Describe panels and key charts. You can also attach an image file in your repo (png/pdf)."
   ]
  },
  {
   "cell_type": "code",
   "execution_count": 1,
   "id": "93f1565b",
   "metadata": {},
   "outputs": [
    {
     "data": {
      "text/plain": [
       "{'data': ['freshness_minutes', 'null_rate', 'schema_hash'],\n",
       " 'model': ['rolling_mae_or_auc', 'calibration_error'],\n",
       " 'system': ['p95_latency_ms', 'error_rate'],\n",
       " 'business': ['approval_rate', 'bad_rate']}"
      ]
     },
     "execution_count": 1,
     "metadata": {},
     "output_type": "execute_result"
    }
   ],
   "source": [
    "# Optional helper: simple structure to list metrics\n",
    "monitoring = {\n",
    "    'data': ['freshness_minutes', 'null_rate', 'schema_hash'],\n",
    "    'model': ['rolling_mae_or_auc', 'calibration_error'],\n",
    "    'system': ['p95_latency_ms', 'error_rate'],\n",
    "    'business': ['approval_rate', 'bad_rate']\n",
    "}\n",
    "monitoring"
   ]
  }
 ],
 "metadata": {
  "kernelspec": {
   "display_name": "Python [conda env:bootcamp_env]",
   "language": "python",
   "name": "bootcamp_env"
  },
  "language_info": {
   "codemirror_mode": {
    "name": "ipython",
    "version": 3
   },
   "file_extension": ".py",
   "mimetype": "text/x-python",
   "name": "python",
   "nbconvert_exporter": "python",
   "pygments_lexer": "ipython3",
   "version": "3.10.18"
  }
 },
 "nbformat": 4,
 "nbformat_minor": 5
}
