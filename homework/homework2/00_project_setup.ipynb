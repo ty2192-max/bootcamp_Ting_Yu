{
 "cells": [
  {
   "cell_type": "markdown",
   "id": "ab23287c",
   "metadata": {},
   "source": [
    "Environment & Config Check"
   ]
  },
  {
   "cell_type": "code",
   "execution_count": null,
   "id": "a0e1b7a3",
   "metadata": {
    "vscode": {
     "languageId": "plaintext"
    }
   },
   "outputs": [],
   "source": [
    "\n",
    "\n",
    "try:\n",
    "    import numpy as np\n",
    "    from dotenv import load_dotenv\n",
    "    print(\"Imports OK\")\n",
    "except Exception as e:\n",
    "    print(\"Import error:\", e)\n",
    "    raise\n",
    "\n",
    "load_dotenv()\n",
    "print(\".env loaded (if present)\")\n",
    "\n",
    "arr = np.array([1, 2, 3, 4, 5])\n",
    "print(\"Array:\", arr)\n",
    "print(\"Mean:\", arr.mean())\n",
    "print(\"Vectorized * 10:\", arr * 10)\n",
    "\n"
   ]
  }
 ],
 "metadata": {
  "language_info": {
   "name": "python"
  }
 },
 "nbformat": 4,
 "nbformat_minor": 5
}
