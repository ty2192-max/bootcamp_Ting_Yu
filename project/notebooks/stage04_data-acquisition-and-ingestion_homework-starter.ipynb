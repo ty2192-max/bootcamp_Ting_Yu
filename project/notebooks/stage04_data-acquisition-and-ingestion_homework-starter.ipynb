{
 "cells": [
  {
   "cell_type": "markdown",
   "metadata": {},
   "source": [
    "# Homework Starter — Stage 04: Data Acquisition and Ingestion\n",
    "Name: \n",
    "Date: \n",
    "\n",
    "## Objectives\n",
    "- API ingestion with secrets in `.env`\n",
    "- Scrape a permitted public table\n",
    "- Validate and save raw data to `data/raw/`"
   ]
  },
  {
   "cell_type": "code",
   "execution_count": 10,
   "metadata": {},
   "outputs": [
    {
     "name": "stdout",
     "output_type": "stream",
     "text": [
      "ALPHAVANTAGE_API_KEY loaded? True\n"
     ]
    }
   ],
   "source": [
    "import os, pathlib, datetime as dt\n",
    "import requests\n",
    "import pandas as pd\n",
    "from bs4 import BeautifulSoup\n",
    "from dotenv import load_dotenv\n",
    "\n",
    "RAW = pathlib.Path('../data/raw'); RAW.mkdir(parents=True, exist_ok=True)\n",
    "load_dotenv(); print('ALPHAVANTAGE_API_KEY loaded?', bool(os.getenv('ALPHAVANTAGE_API_KEY')))\n",
    "\n",
    "def ts():\n",
    "    return dt.datetime.now().strftime('%Y%m%d-%H%M%S')\n",
    "\n",
    "def save_csv(df: pd.DataFrame, prefix: str, **meta):\n",
    "    mid = '_'.join([f\"{k}-{v}\" for k,v in meta.items()])\n",
    "    path = RAW / f\"{prefix}_{mid}_{ts()}.csv\"\n",
    "    df.to_csv(path, index=False)\n",
    "    print('Saved', path)\n",
    "    return path\n",
    "\n",
    "def validate(df: pd.DataFrame, required):\n",
    "    missing = [c for c in required if c not in df.columns]\n",
    "    return {'missing': missing, 'shape': df.shape, 'na_total': int(df.isna().sum().sum())}"
   ]
  },
  {
   "cell_type": "markdown",
   "metadata": {},
   "source": [
    "## Part 1 — API Pull (Required)\n",
    "Choose an endpoint (e.g., Alpha Vantage or use `yfinance` fallback)."
   ]
  },
  {
   "cell_type": "code",
   "execution_count": 8,
   "metadata": {},
   "outputs": [
    {
     "name": "stdout",
     "output_type": "stream",
     "text": [
      "{'Meta Data': {'1. Information': 'Intraday (60min) open, high, low, close prices and volume', '2. Symbol': 'AAPL', '3. Last Refreshed': '2025-08-20 19:00:00', '4. Interval': '60min', '5. Output Size': 'Compact', '6. Time Zone': 'US/Eastern'}, 'Time Series (60min)': {'2025-08-20 19:00:00': {'1. open': '225.6500', '2. high': '225.7000', '3. low': '225.5000', '4. close': '225.6390', '5. volume': '48903'}, '2025-08-20 18:00:00': {'1. open': '225.7000', '2. high': '225.7800', '3. low': '225.5800', '4. close': '225.6400', '5. volume': '34223'}, '2025-08-20 17:00:00': {'1. open': '225.8800', '2. high': '225.9000', '3. low': '216.9087', '4. close': '225.6900', '5. volume': '34827'}, '2025-08-20 16:00:00': {'1. open': '225.9700', '2. high': '241.3268', '3. low': '216.8995', '4. close': '225.9000', '5. volume': '13832271'}, '2025-08-20 15:00:00': {'1. open': '226.1000', '2. high': '227.1300', '3. low': '225.9200', '4. close': '225.9600', '5. volume': '6728347'}, '2025-08-20 14:00:00': {'1. open': '226.3800', '2. high': '226.5400', '3. low': '225.7700', '4. close': '226.0800', '5. volume': '2634982'}, '2025-08-20 13:00:00': {'1. open': '226.2601', '2. high': '226.8500', '3. low': '226.1400', '4. close': '226.3800', '5. volume': '2658980'}, '2025-08-20 12:00:00': {'1. open': '226.5500', '2. high': '227.1600', '3. low': '225.8900', '4. close': '226.2700', '5. volume': '3600134'}, '2025-08-20 11:00:00': {'1. open': '226.5400', '2. high': '227.5500', '3. low': '226.1100', '4. close': '226.5598', '5. volume': '3960240'}, '2025-08-20 10:00:00': {'1. open': '227.2850', '2. high': '227.7800', '3. low': '226.2200', '4. close': '226.5700', '5. volume': '6280810'}, '2025-08-20 09:00:00': {'1. open': '229.3112', '2. high': '232.3350', '3. low': '226.5000', '4. close': '227.3100', '5. volume': '6630039'}, '2025-08-20 08:00:00': {'1. open': '229.7012', '2. high': '230.5600', '3. low': '228.5000', '4. close': '229.3300', '5. volume': '237103'}, '2025-08-20 07:00:00': {'1. open': '229.3200', '2. high': '229.8300', '3. low': '229.1000', '4. close': '229.5700', '5. volume': '43401'}, '2025-08-20 06:00:00': {'1. open': '229.2300', '2. high': '229.5700', '3. low': '229.1300', '4. close': '229.2800', '5. volume': '18008'}, '2025-08-20 05:00:00': {'1. open': '229.3200', '2. high': '229.5800', '3. low': '229.1400', '4. close': '229.2300', '5. volume': '19641'}, '2025-08-20 04:00:00': {'1. open': '230.8800', '2. high': '230.8800', '3. low': '228.9700', '4. close': '229.2500', '5. volume': '46938'}, '2025-08-19 19:00:00': {'1. open': '230.5600', '2. high': '230.8200', '3. low': '229.7700', '4. close': '229.8352', '5. volume': '61846'}, '2025-08-19 18:00:00': {'1. open': '230.5000', '2. high': '230.9800', '3. low': '230.4300', '4. close': '230.5400', '5. volume': '41235'}, '2025-08-19 17:00:00': {'1. open': '230.5600', '2. high': '233.1315', '3. low': '209.2250', '4. close': '230.4700', '5. volume': '1959504'}, '2025-08-19 16:00:00': {'1. open': '230.5700', '2. high': '241.0694', '3. low': '224.2896', '4. close': '230.5100', '5. volume': '12619439'}, '2025-08-19 15:00:00': {'1. open': '229.7600', '2. high': '230.6900', '3. low': '229.3500', '4. close': '230.5600', '5. volume': '5829379'}, '2025-08-19 14:00:00': {'1. open': '230.7900', '2. high': '230.7900', '3. low': '229.5800', '4. close': '229.7600', '5. volume': '3804120'}, '2025-08-19 13:00:00': {'1. open': '230.7150', '2. high': '230.9000', '3. low': '230.0600', '4. close': '230.7900', '5. volume': '2830725'}, '2025-08-19 12:00:00': {'1. open': '231.3912', '2. high': '231.5400', '3. low': '230.7000', '4. close': '230.7150', '5. volume': '3128437'}, '2025-08-19 11:00:00': {'1. open': '230.8800', '2. high': '231.6600', '3. low': '230.4700', '4. close': '231.3950', '5. volume': '4051074'}, '2025-08-19 10:00:00': {'1. open': '232.0400', '2. high': '232.8700', '3. low': '230.7850', '4. close': '230.8800', '5. volume': '5996221'}, '2025-08-19 09:00:00': {'1. open': '230.2300', '2. high': '232.2900', '3. low': '230.1000', '4. close': '232.0700', '5. volume': '4181544'}, '2025-08-19 08:00:00': {'1. open': '230.6488', '2. high': '230.8900', '3. low': '229.9500', '4. close': '230.2100', '5. volume': '351730'}, '2025-08-19 07:00:00': {'1. open': '230.0900', '2. high': '230.5300', '3. low': '230.0500', '4. close': '230.5300', '5. volume': '21814'}, '2025-08-19 06:00:00': {'1. open': '230.4000', '2. high': '230.4400', '3. low': '229.9000', '4. close': '230.0400', '5. volume': '21385'}, '2025-08-19 05:00:00': {'1. open': '230.3400', '2. high': '230.5800', '3. low': '230.3000', '4. close': '230.4000', '5. volume': '10784'}, '2025-08-19 04:00:00': {'1. open': '230.9200', '2. high': '230.9200', '3. low': '230.1800', '4. close': '230.3400', '5. volume': '18468'}, '2025-08-18 19:00:00': {'1. open': '231.0500', '2. high': '231.1300', '3. low': '230.8000', '4. close': '230.9000', '5. volume': '15870'}, '2025-08-18 18:00:00': {'1. open': '230.9600', '2. high': '231.2500', '3. low': '230.9200', '4. close': '231.0500', '5. volume': '13181'}, '2025-08-18 17:00:00': {'1. open': '230.8100', '2. high': '245.2882', '3. low': '217.3306', '4. close': '230.9201', '5. volume': '1358244'}, '2025-08-18 16:00:00': {'1. open': '230.8900', '2. high': '245.2882', '3. low': '214.9442', '4. close': '227.2084', '5. volume': '12725233'}, '2025-08-18 15:00:00': {'1. open': '231.4700', '2. high': '231.6750', '3. low': '230.8800', '4. close': '230.8800', '5. volume': '4501515'}, '2025-08-18 14:00:00': {'1. open': '231.0900', '2. high': '231.5700', '3. low': '230.9400', '4. close': '231.4700', '5. volume': '2693201'}, '2025-08-18 13:00:00': {'1. open': '230.5950', '2. high': '231.6700', '3. low': '230.5900', '4. close': '231.0800', '5. volume': '3021360'}, '2025-08-18 12:00:00': {'1. open': '230.9000', '2. high': '231.1100', '3. low': '230.1100', '4. close': '230.5950', '5. volume': '2971174'}, '2025-08-18 11:00:00': {'1. open': '230.5305', '2. high': '231.2200', '3. low': '230.4700', '4. close': '230.9050', '5. volume': '3604651'}, '2025-08-18 10:00:00': {'1. open': '232.3500', '2. high': '233.1200', '3. low': '230.3700', '4. close': '230.5100', '5. volume': '7001316'}, '2025-08-18 09:00:00': {'1. open': '231.1600', '2. high': '232.7300', '3. low': '230.6800', '4. close': '232.3500', '5. volume': '4889494'}, '2025-08-18 08:00:00': {'1. open': '231.1788', '2. high': '231.7300', '3. low': '230.9000', '4. close': '231.1600', '5. volume': '100229'}, '2025-08-18 07:00:00': {'1. open': '231.0400', '2. high': '231.3600', '3. low': '231.0200', '4. close': '231.2700', '5. volume': '28315'}, '2025-08-18 06:00:00': {'1. open': '231.0100', '2. high': '231.1500', '3. low': '231.0000', '4. close': '231.0400', '5. volume': '20014'}, '2025-08-18 05:00:00': {'1. open': '231.1000', '2. high': '231.1200', '3. low': '230.9500', '4. close': '231.0100', '5. volume': '27308'}, '2025-08-18 04:00:00': {'1. open': '231.0000', '2. high': '231.4100', '3. low': '230.9000', '4. close': '231.1100', '5. volume': '46242'}, '2025-08-15 19:00:00': {'1. open': '231.2300', '2. high': '231.5000', '3. low': '231.1600', '4. close': '231.1800', '5. volume': '18765'}, '2025-08-15 18:00:00': {'1. open': '231.2600', '2. high': '231.5994', '3. low': '231.1700', '4. close': '231.2500', '5. volume': '15965'}, '2025-08-15 17:00:00': {'1. open': '231.2700', '2. high': '242.3546', '3. low': '216.3137', '4. close': '231.3000', '5. volume': '878377'}, '2025-08-15 16:00:00': {'1. open': '231.6500', '2. high': '236.5208', '3. low': '215.1557', '4. close': '236.5208', '5. volume': '22161248'}, '2025-08-15 15:00:00': {'1. open': '230.7700', '2. high': '231.7700', '3. low': '230.5900', '4. close': '231.6500', '5. volume': '7819671'}, '2025-08-15 14:00:00': {'1. open': '230.8850', '2. high': '231.2899', '3. low': '229.3350', '4. close': '230.7697', '5. volume': '6067048'}, '2025-08-15 13:00:00': {'1. open': '230.9100', '2. high': '231.2250', '3. low': '230.2300', '4. close': '230.8900', '5. volume': '4656518'}, '2025-08-15 12:00:00': {'1. open': '231.0200', '2. high': '231.3600', '3. low': '230.4737', '4. close': '230.9000', '5. volume': '4647568'}, '2025-08-15 11:00:00': {'1. open': '230.8700', '2. high': '231.5550', '3. low': '230.4700', '4. close': '231.0250', '5. volume': '4951980'}, '2025-08-15 10:00:00': {'1. open': '232.0000', '2. high': '232.6850', '3. low': '230.7500', '4. close': '230.8700', '5. volume': '5648346'}, '2025-08-15 09:00:00': {'1. open': '233.0300', '2. high': '234.2800', '3. low': '231.8000', '4. close': '232.0600', '5. volume': '8230500'}, '2025-08-15 08:00:00': {'1. open': '233.1688', '2. high': '233.4600', '3. low': '210.4850', '4. close': '233.0300', '5. volume': '297528'}, '2025-08-15 07:00:00': {'1. open': '232.7500', '2. high': '233.3100', '3. low': '232.6700', '4. close': '233.1500', '5. volume': '25378'}, '2025-08-15 06:00:00': {'1. open': '232.9900', '2. high': '232.9900', '3. low': '232.6100', '4. close': '232.7300', '5. volume': '14796'}, '2025-08-15 05:00:00': {'1. open': '232.6600', '2. high': '233.1800', '3. low': '232.6000', '4. close': '232.8600', '5. volume': '17517'}, '2025-08-15 04:00:00': {'1. open': '232.4500', '2. high': '233.2400', '3. low': '232.4500', '4. close': '232.7300', '5. volume': '43567'}, '2025-08-14 19:00:00': {'1. open': '232.5900', '2. high': '232.8000', '3. low': '232.1000', '4. close': '232.2800', '5. volume': '35854'}, '2025-08-14 18:00:00': {'1. open': '232.6000', '2. high': '232.7700', '3. low': '232.2800', '4. close': '232.5500', '5. volume': '33525'}, '2025-08-14 17:00:00': {'1. open': '232.8300', '2. high': '235.2343', '3. low': '181.4600', '4. close': '232.5800', '5. volume': '259728'}, '2025-08-14 16:00:00': {'1. open': '232.7800', '2. high': '235.2343', '3. low': '217.8036', '4. close': '232.7800', '5. volume': '14977251'}, '2025-08-14 15:00:00': {'1. open': '232.9900', '2. high': '234.1300', '3. low': '232.6900', '4. close': '232.8300', '5. volume': '7029062'}, '2025-08-14 14:00:00': {'1. open': '232.7200', '2. high': '233.3700', '3. low': '232.3200', '4. close': '232.9900', '5. volume': '3529094'}, '2025-08-14 13:00:00': {'1. open': '232.4950', '2. high': '233.1400', '3. low': '232.4584', '4. close': '232.7050', '5. volume': '3989455'}, '2025-08-14 12:00:00': {'1. open': '231.3250', '2. high': '232.5450', '3. low': '231.3100', '4. close': '232.4906', '5. volume': '3221498'}, '2025-08-14 11:00:00': {'1. open': '231.6550', '2. high': '234.0899', '3. low': '230.8500', '4. close': '231.3200', '5. volume': '6071792'}, '2025-08-14 10:00:00': {'1. open': '233.3950', '2. high': '233.4200', '3. low': '231.5400', '4. close': '231.6500', '5. volume': '7311685'}, '2025-08-14 09:00:00': {'1. open': '232.9000', '2. high': '235.1200', '3. low': '230.7850', '4. close': '233.4100', '5. volume': '8417869'}, '2025-08-14 08:00:00': {'1. open': '232.9000', '2. high': '234.9000', '3. low': '232.1500', '4. close': '232.6681', '5. volume': '3175787'}, '2025-08-14 07:00:00': {'1. open': '232.7400', '2. high': '234.9900', '3. low': '232.6800', '4. close': '234.2200', '5. volume': '101670'}, '2025-08-14 06:00:00': {'1. open': '232.6500', '2. high': '232.8300', '3. low': '232.5400', '4. close': '232.7100', '5. volume': '10685'}, '2025-08-14 05:00:00': {'1. open': '232.7500', '2. high': '232.8400', '3. low': '232.5100', '4. close': '232.6600', '5. volume': '16926'}, '2025-08-14 04:00:00': {'1. open': '232.8900', '2. high': '233.3000', '3. low': '232.7100', '4. close': '232.7500', '5. volume': '35104'}, '2025-08-13 19:00:00': {'1. open': '233.2900', '2. high': '233.3000', '3. low': '233.1000', '4. close': '233.3000', '5. volume': '25815'}, '2025-08-13 18:00:00': {'1. open': '233.3400', '2. high': '233.4700', '3. low': '204.7775', '4. close': '233.2900', '5. volume': '29858'}, '2025-08-13 17:00:00': {'1. open': '233.3900', '2. high': '245.4752', '3. low': '233.3300', '4. close': '233.3300', '5. volume': '35850'}, '2025-08-13 16:00:00': {'1. open': '233.3300', '2. high': '233.8500', '3. low': '217.4513', '4. close': '233.4400', '5. volume': '15314051'}, '2025-08-13 15:00:00': {'1. open': '233.1200', '2. high': '234.3300', '3. low': '233.0600', '4. close': '233.3200', '5. volume': '10197842'}, '2025-08-13 14:00:00': {'1. open': '233.1001', '2. high': '235.0000', '3. low': '230.8000', '4. close': '233.1200', '5. volume': '10893714'}, '2025-08-13 13:00:00': {'1. open': '232.1200', '2. high': '233.1900', '3. low': '231.5600', '4. close': '233.1100', '5. volume': '5096920'}, '2025-08-13 12:00:00': {'1. open': '232.6800', '2. high': '233.4000', '3. low': '232.0700', '4. close': '232.1068', '5. volume': '5519196'}, '2025-08-13 11:00:00': {'1. open': '233.5300', '2. high': '233.9150', '3. low': '231.6800', '4. close': '232.6650', '5. volume': '7551911'}, '2025-08-13 10:00:00': {'1. open': '231.7500', '2. high': '234.5500', '3. low': '231.1600', '4. close': '233.6000', '5. volume': '12663963'}, '2025-08-13 09:00:00': {'1. open': '230.8300', '2. high': '232.1900', '3. low': '228.0600', '4. close': '231.7775', '5. volume': '8519393'}, '2025-08-13 08:00:00': {'1. open': '229.9400', '2. high': '230.9000', '3. low': '228.0000', '4. close': '230.8500', '5. volume': '229875'}, '2025-08-13 07:00:00': {'1. open': '230.0300', '2. high': '230.1200', '3. low': '229.8200', '4. close': '230.0100', '5. volume': '42314'}, '2025-08-13 06:00:00': {'1. open': '229.9100', '2. high': '230.0700', '3. low': '229.8500', '4. close': '230.0600', '5. volume': '23460'}, '2025-08-13 05:00:00': {'1. open': '229.9300', '2. high': '229.9800', '3. low': '229.7200', '4. close': '229.9100', '5. volume': '15950'}, '2025-08-13 04:00:00': {'1. open': '229.1700', '2. high': '230.1100', '3. low': '229.1700', '4. close': '229.9500', '5. volume': '41807'}, '2025-08-12 19:00:00': {'1. open': '229.3800', '2. high': '229.6792', '3. low': '229.3000', '4. close': '229.6507', '5. volume': '34863'}, '2025-08-12 18:00:00': {'1. open': '229.5800', '2. high': '229.5900', '3. low': '229.3000', '4. close': '229.3800', '5. volume': '18361'}, '2025-08-12 17:00:00': {'1. open': '229.6500', '2. high': '240.2364', '3. low': '204.7775', '4. close': '229.5500', '5. volume': '34665'}, '2025-08-12 16:00:00': {'1. open': '229.6300', '2. high': '229.7900', '3. low': '229.0700', '4. close': '229.6800', '5. volume': '18428012'}}}\n"
     ]
    },
    {
     "data": {
      "text/plain": [
       "{'missing': [], 'shape': (100, 2), 'na_total': 0}"
      ]
     },
     "execution_count": 8,
     "metadata": {},
     "output_type": "execute_result"
    }
   ],
   "source": [
    "SYMBOL = 'AAPL'\n",
    "USE_ALPHA = bool(os.getenv('ALPHAVANTAGE_API_KEY'))\n",
    "if USE_ALPHA:\n",
    "    url = 'https://www.alphavantage.co/query'\n",
    "    params = {'function':'TIME_SERIES_INTRADAY','symbol':SYMBOL,'outputsize':'compact','interval':'60min','apikey':os.getenv('ALPHAVANTAGE_API_KEY')}\n",
    "    r = requests.get(url, params=params, timeout=30)\n",
    "    r.raise_for_status()\n",
    "    js = r.json()\n",
    "    print(js)\n",
    "    key = [k for k in js if 'Time Series' in k][0]\n",
    "    df_api = pd.DataFrame(js[key]).T.reset_index().rename(columns={'index':'date','4. close':'adj_close'})[['date','adj_close']]\n",
    "    df_api['date'] = pd.to_datetime(df_api['date']); df_api['adj_close'] = pd.to_numeric(df_api['adj_close'])\n",
    "else:\n",
    "    import yfinance as yf\n",
    "    df_api = yf.download(SYMBOL, period='3mo', interval='1d').reset_index()[['Date','Adj Close']]\n",
    "    df_api.columns = ['date','adj_close']\n",
    "\n",
    "v_api = validate(df_api, ['date','adj_close']); v_api"
   ]
  },
  {
   "cell_type": "code",
   "execution_count": 11,
   "metadata": {},
   "outputs": [
    {
     "name": "stdout",
     "output_type": "stream",
     "text": [
      "Saved ../data/raw/api_source-alpha_symbol-AAPL_20250820-214653.csv\n"
     ]
    }
   ],
   "source": [
    "_ = save_csv(df_api.sort_values('date'), prefix='api', source='alpha' if USE_ALPHA else 'yfinance', symbol=SYMBOL)"
   ]
  },
  {
   "cell_type": "markdown",
   "metadata": {},
   "source": [
    "## Part 2 — Scrape a Public Table (Required)\n",
    "Replace `SCRAPE_URL` with a permitted page containing a simple table."
   ]
  },
  {
   "cell_type": "code",
   "execution_count": 12,
   "metadata": {},
   "outputs": [
    {
     "data": {
      "text/plain": [
       "{'missing': [], 'shape': (503, 8), 'na_total': 0}"
      ]
     },
     "execution_count": 12,
     "metadata": {},
     "output_type": "execute_result"
    }
   ],
   "source": [
    "import re\n",
    "\n",
    "SCRAPE_URL = \"https://en.wikipedia.org/wiki/List_of_S%26P_500_companies\"\n",
    "resp = requests.get(SCRAPE_URL, timeout=30, headers={\"User-Agent\": \"data-ingestion-homework/1.0\"})\n",
    "resp.raise_for_status()\n",
    "soup = BeautifulSoup(resp.text, \"lxml\")\n",
    "\n",
    "def norm_header(s: str) -> str:\n",
    "    s = re.sub(r\"\\[[^\\]]*\\]\", \"\", s)            \n",
    "    s = s.replace(\"\\xa0\", \" \").strip().lower()\n",
    "    s = re.sub(r\"[^a-z0-9]+\", \"_\", s)           \n",
    "    return s.strip(\"_\")\n",
    "\n",
    "\n",
    "candidates = []\n",
    "t = soup.find(\"table\", id=\"constituents\")\n",
    "if t: candidates.append(t)\n",
    "candidates += soup.find_all(\"table\", class_=\"wikitable\")\n",
    "\n",
    "def table_to_df(table):\n",
    "    head = table.find(\"tr\")\n",
    "    if not head: return None\n",
    "    cols = [norm_header(th.get_text(\" \", strip=True)) for th in head.find_all(\"th\")]\n",
    "    if not cols: return None\n",
    "    # we want the actual constituents table\n",
    "    needed = {\"symbol\", \"gics_sector\"}\n",
    "    if not needed.issubset(set(cols)):\n",
    "        return None\n",
    "\n",
    "    rows = []\n",
    "    for tr in table.find_all(\"tr\")[1:]:\n",
    "        tds = tr.find_all([\"td\",\"th\"])\n",
    "        if not tds: continue\n",
    "        vals = [td.get_text(\" \", strip=True) for td in tds]\n",
    "        # align to header length\n",
    "        if len(vals) < len(cols):\n",
    "            vals += [\"\"] * (len(cols) - len(vals))\n",
    "        elif len(vals) > len(cols):\n",
    "            vals = vals[:len(cols)]\n",
    "        rows.append(dict(zip(cols, vals)))\n",
    "    if not rows:\n",
    "        return None\n",
    "    return pd.DataFrame(rows)\n",
    "\n",
    "df_scrape = None\n",
    "for tbl in candidates:\n",
    "    df = table_to_df(tbl)\n",
    "    if df is not None:\n",
    "        df_scrape = df\n",
    "        break\n",
    "\n",
    "if df_scrape is None:\n",
    "    raise RuntimeError(\"Could not find S&P 500 constituents table with required columns.\")\n",
    "\n",
    "# Standardize common column names if Wikipedia label shifts slightly\n",
    "rename_map = {}\n",
    "cols = set(df_scrape.columns)\n",
    "if \"security\" not in cols:\n",
    "    for alt in [\"company\", \"constituent\", \"name\"]:\n",
    "        if alt in cols:\n",
    "            rename_map[alt] = \"security\"\n",
    "            break\n",
    "if rename_map:\n",
    "    df_scrape = df_scrape.rename(columns=rename_map)\n",
    "\n",
    "# Light typing / cleaning\n",
    "if \"date_first_added\" in df_scrape.columns:\n",
    "    df_scrape[\"date_first_added\"] = pd.to_datetime(df_scrape[\"date_first_added\"], errors=\"coerce\")\n",
    "if \"cik\" in df_scrape.columns:\n",
    "    df_scrape[\"cik\"] = df_scrape[\"cik\"].astype(str).str.replace(r\"\\.0$\", \"\", regex=True)\n",
    "\n",
    "df_scrape.head(), list(df_scrape.columns)\n",
    "\n",
    "v_scrape = validate(df_scrape, list(df_scrape.columns)); v_scrape\n"
   ]
  },
  {
   "cell_type": "code",
   "execution_count": 14,
   "metadata": {},
   "outputs": [
    {
     "name": "stdout",
     "output_type": "stream",
     "text": [
      "Saved ../data/raw/scrape_site-wikipedia_table-S&P 500 component stocks_20250820-215336.csv\n"
     ]
    }
   ],
   "source": [
    "_ = save_csv(df_scrape, prefix='scrape', site='wikipedia', table='S&P 500 component stocks')\n"
   ]
  },
  {
   "cell_type": "markdown",
   "metadata": {},
   "source": [
    "## Sources\n",
    "- API: Alpha Vantage (TIME_SERIES_INTRADAY) if `ALPHA_VANTAGE_KEY` present; otherwise yfinance.\n",
    "- Params: {'function':'TIME_SERIES_INTRADAY','symbol':SYMBOL,'outputsize':'compact','interval':'60min','apikey':os.getenv('ALPHAVANTAGE_API_KEY')}\n",
    "- Ticker: AAPL\n",
    "- Scrape: https://en.wikipedia.org/wiki/List_of_S%26P_500_companies (constituents table)\n",
    "\n",
    "\n",
    "## Validation\n",
    "     Build a list of any required columns that are NOT present in df\n",
    "     Return a small summary:\n",
    "     - 'missing': which required columns are absent\n",
    "     - 'shape': (num_rows, num_cols)\n",
    "     - 'na_total': total number of NA/NaN/None cells across the ENTIRE DataFrame\n",
    "\n",
    "## Reproducible Filenames\n",
    "- `api_source-alpha_symbol-AAPL_20250820-214653.csv`\n",
    "- `scrape_site-wikipedia_table-S&P 500 component stocks_20250820-215336.csv`\n",
    "\n",
    "\n",
    "## Assumptions & Risks\n",
    "- Wikipedia table structure may change.\n",
    "- Alpha Vantage has rate limits; yfinance used as a no-key fallback.\n"
   ]
  },
  {
   "cell_type": "markdown",
   "id": "a1d06d75",
   "metadata": {},
   "source": []
  }
 ],
 "metadata": {
  "kernelspec": {
   "display_name": "Python 3",
   "language": "python",
   "name": "python3"
  },
  "language_info": {
   "codemirror_mode": {
    "name": "ipython",
    "version": 3
   },
   "file_extension": ".py",
   "mimetype": "text/x-python",
   "name": "python",
   "nbconvert_exporter": "python",
   "pygments_lexer": "ipython3",
   "version": "3.11.13"
  }
 },
 "nbformat": 4,
 "nbformat_minor": 5
}
