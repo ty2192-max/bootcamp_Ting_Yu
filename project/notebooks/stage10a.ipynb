{
 "cells": [
  {
   "cell_type": "markdown",
   "metadata": {},
   "source": [
    "# Homework Starter — Stage 10a: Linear Regression\n",
    "\n",
    "Use this as a scaffold if your project data isn’t ready. Replace the synthetic data section with your dataset when possible."
   ]
  },
  {
   "cell_type": "code",
   "execution_count": null,
   "metadata": {},
   "outputs": [],
   "source": [
    "# Imports\n",
    "import numpy as np\n",
    "import pandas as pd\n",
    "import matplotlib.pyplot as plt\n",
    "import seaborn as sns\n",
    "from sklearn.linear_model import LinearRegression\n",
    "from sklearn.metrics import r2_score, mean_squared_error\n",
    "from sklearn.model_selection import train_test_split\n",
    "import scipy.stats as st\n",
    "\nsns.set()\n",
    "np.random.seed(7)"
   ]
  },
  {
   "cell_type": "markdown",
   "metadata": {},
   "source": [
    "## 1) Synthetic data (replace with your project data when ready)\n",
    "- Finance-flavored factors and asset excess return\n",
    "- Includes a quadratic effect to motivate specification checks"
   ]
  },
  {
   "cell_type": "code",
   "execution_count": null,
   "metadata": {},
   "outputs": [],
   "source": [
    "n = 200\n",
    "dates = pd.bdate_range(start=\"2024-02-01\", periods=n)\n",
    "mkt_excess = np.random.normal(0, 0.011, size=n)\n",
    "size = np.random.normal(0, 0.008, size=n)\n",
    "value = np.random.normal(0, 0.009, size=n)\n",
    "momentum = np.random.normal(0, 0.006, size=n)\n",
    "\n",
    "beta0, beta_mkt, beta_size, beta_value, beta_mom, beta_mom2 = 0.0001, 0.9, 0.25, -0.15, 0.35, 3.5\n",
    "noise_scale = 0.0035 + 0.5*np.abs(mkt_excess)\n",
    "eps = np.random.normal(0, noise_scale)\n",
    "asset_excess = (\n",
    "    beta0 + beta_mkt*mkt_excess + beta_size*size + beta_value*value + beta_mom*momentum\n",
    "    + beta_mom2*(momentum**2) + eps\n",
    ")\n",
    "df = pd.DataFrame({\n",
    "    'date': dates,\n",
    "    'mkt_excess': mkt_excess,\n",
    "    'size': size,\n",
    "    'value': value,\n",
    "    'momentum': momentum,\n",
    "    'asset_excess': asset_excess\n",
    "})\n",
    "df.head()"
   ]
  },
  {
   "cell_type": "markdown",
   "metadata": {},
   "source": [
    "## 2) Baseline model fit\n",
    "Follow the steps; replace `df` with your project DataFrame when ready."
   ]
  },
  {
   "cell_type": "code",
   "execution_count": null,
   "metadata": {},
   "outputs": [],
   "source": [
    "X = df[['mkt_excess','size','value','momentum']]\n",
    "y = df['asset_excess']\n",
    "X_train, X_test, y_train, y_test = train_test_split(X, y, test_size=0.2, shuffle=False)\n",
    "lr = LinearRegression().fit(X_train, y_train)\n",
    "y_pred = lr.predict(X_test)\n",
    "r2 = r2_score(y_test, y_pred)\n",
    "rmse = mean_squared_error(y_test, y_pred, squared=False)\n",
    "print(f'Baseline   R²={r2:.4f}  RMSE={rmse:.6f}')"
   ]
  },
  {
   "cell_type": "code",
   "execution_count": null,
   "metadata": {},
   "outputs": [],
   "source": [
    "resid = y_test - y_pred\n",
    "fitted = y_pred\n",
    "plt.figure(); plt.scatter(fitted, resid); plt.axhline(0, ls='--'); plt.title('Residuals vs Fitted'); plt.show()\n",
    "plt.figure(); plt.hist(resid, bins=20); plt.title('Residual Histogram'); plt.show()\n",
    "plt.figure(); st.probplot(resid, dist='norm', plot=plt); plt.title('QQ Plot'); plt.show()"
   ]
  },
  {
   "cell_type": "markdown",
   "metadata": {},
   "source": [
    "## 3) Optional: Add a transformed feature\n",
    "Add a polynomial or interaction if diagnostics suggest mis-specification."
   ]
  },
  {
   "cell_type": "code",
   "execution_count": null,
   "metadata": {},
   "outputs": [],
   "source": [
    "df['momentum_sq'] = df['momentum']**2\n",
    "X2 = df[['mkt_excess','size','value','momentum','momentum_sq']]\n",
    "X2_train, X2_test = X2.iloc[:len(X_train)], X2.iloc[len(X_train):]\n",
    "lr2 = LinearRegression().fit(X2_train, y_train)\n",
    "y_pred2 = lr2.predict(X2_test)\n",
    "r2_2 = r2_score(y_test, y_pred2)\n",
    "rmse_2 = mean_squared_error(y_test, y_pred2, squared=False)\n",
    "print(f'With x^2   R²={r2_2:.4f}  RMSE={rmse_2:.6f}')"
   ]
  },
  {
   "cell_type": "markdown",
   "metadata": {},
   "source": [
    "## 4) Interpretation (write your conclusions below)\n",
    "- Linearity:\n",
    "- Homoscedasticity:\n",
    "- Normality:\n",
    "- Independence:\n",
    "- Which model do you trust and why?:\n",
    "- Next step you’d try:"
   ]
  }
 ],
 "metadata": {
  "kernelspec": { "display_name": "Python 3", "language": "python", "name": "python3" },
  "language_info": { "name": "python", "version": "3.10" }
 },
 "nbformat": 4,
 "nbformat_minor": 5
}
