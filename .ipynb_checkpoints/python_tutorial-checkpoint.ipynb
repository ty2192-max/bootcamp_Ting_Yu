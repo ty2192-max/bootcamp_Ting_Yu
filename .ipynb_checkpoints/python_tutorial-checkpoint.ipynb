{
 "cells": [
  {
   "cell_type": "code",
   "execution_count": 1,
   "id": "be9fd90a-3c66-4699-b967-b6b754d57e53",
   "metadata": {},
   "outputs": [
    {
     "name": "stdout",
     "output_type": "stream",
     "text": [
      "Hello, Bootcamp!\n"
     ]
    }
   ],
   "source": [
    "print(\"Hello, Bootcamp!\")"
   ]
  },
  {
   "cell_type": "code",
   "execution_count": null,
   "id": "d96b638f-1683-438d-b220-368580c72419",
   "metadata": {},
   "outputs": [],
   "source": []
  }
 ],
 "metadata": {
  "kernelspec": {
   "display_name": "Python [conda env:bootcamp_env]",
   "language": "python",
   "name": "bootcamp_env"
  },
  "language_info": {
   "codemirror_mode": {
    "name": "ipython",
    "version": 3
   },
   "file_extension": ".py",
   "mimetype": "text/x-python",
   "name": "python",
   "nbconvert_exporter": "python",
   "pygments_lexer": "ipython3",
   "version": "3.10.18"
  }
 },
 "nbformat": 4,
 "nbformat_minor": 5
}
