{
  "cells": [
    {
      "cell_type": "markdown",
      "metadata": {},
      "source": [
        "# Homework Starter — Stage 08 EDA\n",
        "\n",
        "Fill in the marked TODOs. This notebook generates synthetic data so you can focus on the EDA flow. Replace with your dataset when ready."
      ]
    },
    {
      "cell_type": "code",
      "metadata": {},
      "source": [
        "import numpy as np, pandas as pd, matplotlib.pyplot as plt, seaborn as sns\n",
        "from scipy.stats import skew, kurtosis\n",
        "sns.set(context='talk', style='whitegrid')\n",
        "np.random.seed(8)\n",
        "pd.set_option('display.max_columns', 100)\n",
        "\n",
        "# === Synthetic data generator (adapt or replace with your own data) ===\n",
        "n = 160\n",
        "df = pd.DataFrame({\n",
        "    'date': pd.date_range('2021-02-01', periods=n, freq='D'),\n",
        "    'region': np.random.choice(['North','South','East','West'], size=n),\n",
        "    'age': np.random.normal(40, 8, size=n).clip(22, 70).round(1),\n",
        "    'income': np.random.lognormal(mean=10.6, sigma=0.3, size=n).round(2),\n",
        "    'transactions': np.random.poisson(lam=3, size=n),\n",
        "})\n",
        "base = df['income'] * 0.0015 + df['transactions']*18 + np.random.normal(0, 40, size=n)\n",
        "df['spend'] = np.maximum(0, base).round(2)\n",
        "\n",
        "# inject a bit of missingness and outliers\n",
        "df.loc[np.random.choice(df.index, 5, replace=False), 'income'] = np.nan\n",
        "df.loc[np.random.choice(df.index, 3, replace=False), 'spend'] = np.nan\n",
        "df.loc[np.random.choice(df.index, 2, replace=False), 'transactions'] = df['transactions'].max()+12\n",
        "df.head()"
      ]
    },
    {
      "cell_type": "markdown",
      "metadata": {},
      "source": [
        "## 1) First look"
      ]
    },
    {
      "cell_type": "code",
      "metadata": {},
      "source": [
        "df.info(), df.isna().sum()"
      ]
    },
    {
      "cell_type": "markdown",
      "metadata": {},
      "source": [
        "## 2) Numeric profile"
      ]
    },
    {
      "cell_type": "code",
      "metadata": {},
      "source": [
        "desc = df[['age','income','transactions','spend']].describe().T\n",
        "desc['skew'] = [skew(df[c].dropna()) for c in desc.index]\n",
        "desc['kurtosis'] = [kurtosis(df[c].dropna()) for c in desc.index]\n",
        "desc"
      ]
    },
    {
      "cell_type": "markdown",
      "metadata": {},
      "source": [
        "## 3) Distributions (TODO: add at least 3)"
      ]
    },
    {
      "cell_type": "code",
      "metadata": {},
      "source": [
        "# TODO: histogram + KDE for a key variable\n",
        "sns.histplot(df['income'], kde=True)\n",
        "plt.title('Income Distribution')\n",
        "plt.show()\n",
        "\n",
        "# TODO: boxplot for outliers\n",
        "sns.boxplot(x=df['transactions'])\n",
        "plt.title('Transactions (Outliers)')\n",
        "plt.show()"
      ]
    },
    {
      "cell_type": "markdown",
      "metadata": {},
      "source": [
        "## 4) Relationships (TODO: add at least 2)"
      ]
    },
    {
      "cell_type": "code",
      "metadata": {},
      "source": [
        "sns.scatterplot(data=df, x='income', y='spend', hue='region')\n",
        "plt.title('Income vs Spend')\n",
        "plt.show()\n",
        "\n",
        "sns.scatterplot(data=df, x='age', y='spend')\n",
        "plt.title('Age vs Spend')\n",
        "plt.show()"
      ]
    },
    {
      "cell_type": "markdown",
      "metadata": {},
      "source": [
        "## 5) (Optional) Correlation matrix"
      ]
    },
    {
      "cell_type": "code",
      "metadata": {},
      "source": [
        "corr = df[['age','income','transactions','spend']].corr(numeric_only=True)\n",
        "sns.heatmap(corr, annot=True, fmt='.2f', cmap='vlag', vmin=-1, vmax=1)\n",
        "plt.title('Correlation Matrix')\n",
        "plt.show()\n",
        "corr"
      ]
    },
    {
      "cell_type": "markdown",
      "metadata": {},
      "source": [
        "## 6) Insights & Assumptions (write your commentary)\n",
        "- TODO: Top 3 insights\n",
        "- TODO: Assumptions & risks\n",
        "- TODO: Next steps before modeling (cleaning & features)"
      ]
    }
  ],
  "metadata": {
    "kernelspec": {
      "display_name": "Python 3",
      "language": "python",
      "name": "python3"
    },
    "language_info": {
      "name": "python",
      "version": "3.10"
    }
  },
  "nbformat": 4,
  "nbformat_minor": 5
}