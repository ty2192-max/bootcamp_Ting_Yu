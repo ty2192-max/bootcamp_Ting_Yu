{
"cells": [
{
"cell_type": "markdown",
"metadata": {},
"source": [
"# Homework Starter — Stage 15: Orchestration & System Design\n",
"Complete the sections below. Keep your answers concise and focused on orchestration readiness."
]
},
{
"cell_type": "markdown",
"metadata": {},
"source": [
"## 1) Project Task Decomposition\n",
"List 4–8 tasks. Add more rows as needed."
]
},
{
"cell_type": "code",
"execution_count": null,
"metadata": {},
"outputs": [],
"source": [
"from pathlib import Path\n",
"import pandas as pd\n",
"tasks = pd.DataFrame({\n",
"    'task': ['ingest', 'clean', 'train_or_score', 'report'],\n",
"    'inputs': ['/data/raw.ext', 'prices_raw.json', 'prices_clean.json', 'model.json'],\n",
"    'outputs': ['prices_raw.json', 'prices_clean.json', 'model.json', 'report.txt'],\n",
"    'idempotent': [True, True, True, True]\n",
"})\n",
"tasks"
]
},
{
"cell_type": "markdown",
"metadata": {},
"source": [
"## 2) Dependencies (DAG)\n",
"Describe dependencies and paste a small diagram if you have one."
]
},
{
"cell_type": "code",
"execution_count": null,
"metadata": {},
"outputs": [],
"source": [
"dag = {\n",
"    'ingest': [],\n",
"    'clean': ['ingest'],\n",
"    'train_or_score': ['clean'],\n",
"    'report': ['train_or_score']\n",
"}\n",
"dag"
]
},
{
"cell_type": "markdown",
"metadata": {},
"source": [
"## 3) Logging & Checkpoints Plan\n",
"Specify what you will log and where you will checkpoint for each task."
]
},
{
"cell_type": "code",
"execution_count": null,
"metadata": {},
"outputs": [],
"source": [
"logging_plan = pd.DataFrame({\n",
"    'task': ['ingest', 'clean', 'train_or_score', 'report'],\n",
"    'log_messages': [\n",
"        'start/end, rows, source URI',\n",
"        'start/end, rows in/out',\n",
"        'params, metrics',\n",
"        'artifact path'\n",
"    ],\n",
"    'checkpoint_artifact': [\n",
"        'prices_raw.json',\n",
"        'prices_clean.json',\n",
"        'model.json',\n",
"        'report.txt'\n",
"    ]\n",
"})\n",
"logging_plan"
]
},
{
"cell_type": "markdown",
"metadata": {},
"source": [
"## 4) Right-Sizing Automation\n",
"Which parts will you automate now? Which stay manual? Why?"
]
},
{
"cell_type": "markdown",
"metadata": {},
"source": [
"*(Write your rationale here.)*"
]
},
{
"cell_type": "markdown",
"metadata": {},
"source": [
"## 5) (Stretch) Refactor One Task into a Function + CLI\n",
"Use the templates below."
]
},
{
"cell_type": "code",
"execution_count": null,
"metadata": {},
"outputs": [],
"source": [
"import argparse, json, logging, sys\n",
"from datetime import datetime\n",
"\n",
"def my_task(input_path: str, output_path: str) -> None:\n",
"    '''Example task template: read → transform → write JSON.'''\n",
"    logging.info('[my_task] start')\n",
"    # TODO: implement your logic\n",
"    result = {'run_at': datetime.utcnow().isoformat(), 'note': 'replace with real output'}\n",
"    Path(output_path).parent.mkdir(parents=True, exist_ok=True)\n",
"    Path(output_path).write_text(json.dumps(result, indent=2))\n",
"    logging.info('[my_task] wrote %s', output_path)\n",
"\n",
"def main(argv=None):\n",
"    parser = argparse.ArgumentParser(description='Homework task wrapper')\n",
"    parser.add_argument('--input', required=True)\n",
"    parser.add_argument('--output', required=True)\n",
"    args = parser.parse_args(argv)\n",
"    logging.basicConfig(level=logging.INFO, handlers=[logging.StreamHandler(sys.stdout)])\n",
"    my_task(args.input, args.output)\n",
"\n",
"if **name** == '**main**'':\n",
"    # Example simulated CLI in notebook:\n",
"    main(['--input', 'data/in.ext', '--output', 'data/out.json'])"
]
},
{
"cell_type": "markdown",
"metadata": {},
"source": [
"### Optional: Simple Retry Wrapper (fill in)\n",
"Add a small retry with linear backoff to harden a task."
]
},
{
"cell_type": "code",
"execution_count": null,
"metadata": {},
"outputs": [],
"source": [
"import time\n",
"def retry(n_tries=3, delay=0.2):\n",
"    def wrapper(fn, *args, **kwargs):\n",
"        # TODO: implement try/except loop with sleep backoff\n",
"        return fn(*args, **kwargs)\n",
"    return wrapper"
]
}
],
"metadata": {
"kernelspec": {
"display_name": "Python 3",
"language": "python",
"name": "python3"
},
"language_info": {
"name": "python",
"version": "3.10"
}
},
"nbformat": 4,
"nbformat_minor": 5
}